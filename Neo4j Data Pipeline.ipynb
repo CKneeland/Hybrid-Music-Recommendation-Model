{
 "cells": [
  {
   "cell_type": "markdown",
   "id": "e24032c7",
   "metadata": {},
   "source": [
    "## Connect to MongoDB, get tracks"
   ]
  },
  {
   "cell_type": "code",
   "execution_count": 7,
   "id": "93afd2ac",
   "metadata": {
    "tags": []
   },
   "outputs": [],
   "source": [
    "from pymongo import MongoClient\n",
    "\n",
    "# REPLACE CREDENTIALS\n",
    "client = MongoClient(\"...\")\n",
    "\n",
    "# Get the database and tracks\n",
    "db = client[\"tune-playlists\"]\n",
    "tracks_collection = db[\"Neo4J Staging Tracks\"]\n",
    "\n",
    "tracks = tracks_collection.find()"
   ]
  },
  {
   "cell_type": "markdown",
   "id": "ab90b217",
   "metadata": {},
   "source": [
    "## Connect to Neo4j"
   ]
  },
  {
   "cell_type": "code",
   "execution_count": 7,
   "id": "9e144983",
   "metadata": {
    "tags": []
   },
   "outputs": [],
   "source": [
    "from py2neo import Graph, Node, Relationship\n",
    "\n",
    "# REPLACE CREDENTIALS\n",
    "uri = \"...\"\n",
    "username = \"...\"\n",
    "password = \"...\"\n",
    "\n",
    "graph = Graph(uri, auth=(username, password))"
   ]
  },
  {
   "cell_type": "markdown",
   "id": "901c14a6-13e0-46e0-90a3-1b6f2b5bd568",
   "metadata": {
    "tags": []
   },
   "source": [
    "## Create node for each track"
   ]
  },
  {
   "cell_type": "code",
   "execution_count": 8,
   "id": "a97bd552-e2f8-464d-b507-811b8a4cd597",
   "metadata": {
    "collapsed": true,
    "tags": []
   },
   "outputs": [
    {
     "ename": "KeyError",
     "evalue": "'genre'",
     "output_type": "error",
     "traceback": [
      "\u001b[1;31m---------------------------------------------------------------------------\u001b[0m",
      "\u001b[1;31mKeyError\u001b[0m                                  Traceback (most recent call last)",
      "Cell \u001b[1;32mIn[8], line 58\u001b[0m\n\u001b[0;32m      2\u001b[0m     \u001b[38;5;28;01mfor\u001b[39;00m track \u001b[38;5;129;01min\u001b[39;00m tracks:\n\u001b[0;32m      3\u001b[0m         graph\u001b[38;5;241m.\u001b[39mrun(\u001b[38;5;124m\"\"\"\u001b[39m\n\u001b[0;32m      4\u001b[0m \u001b[38;5;124m            MERGE (t:Track \u001b[39m\u001b[38;5;124m{\u001b[39m\u001b[38;5;124mid: $id})\u001b[39m\n\u001b[0;32m      5\u001b[0m \u001b[38;5;124m            ON CREATE SET\u001b[39m\n\u001b[1;32m   (...)\u001b[0m\n\u001b[0;32m     55\u001b[0m             tempo\u001b[38;5;241m=\u001b[39mtrack[\u001b[38;5;124m'\u001b[39m\u001b[38;5;124maudio_features\u001b[39m\u001b[38;5;124m'\u001b[39m][\u001b[38;5;124m'\u001b[39m\u001b[38;5;124mtempo\u001b[39m\u001b[38;5;124m'\u001b[39m]\n\u001b[0;32m     56\u001b[0m         )\n\u001b[1;32m---> 58\u001b[0m \u001b[43mupsert_track_nodes\u001b[49m\u001b[43m(\u001b[49m\u001b[43mtracks\u001b[49m\u001b[43m)\u001b[49m\n",
      "Cell \u001b[1;32mIn[8], line 40\u001b[0m, in \u001b[0;36mupsert_track_nodes\u001b[1;34m(tracks)\u001b[0m\n\u001b[0;32m      1\u001b[0m \u001b[38;5;28;01mdef\u001b[39;00m \u001b[38;5;21mupsert_track_nodes\u001b[39m(tracks):\n\u001b[0;32m      2\u001b[0m     \u001b[38;5;28;01mfor\u001b[39;00m track \u001b[38;5;129;01min\u001b[39;00m tracks:\n\u001b[0;32m      3\u001b[0m         graph\u001b[38;5;241m.\u001b[39mrun(\u001b[38;5;124m\"\"\"\u001b[39m\n\u001b[0;32m      4\u001b[0m \u001b[38;5;124m            MERGE (t:Track \u001b[39m\u001b[38;5;124m{\u001b[39m\u001b[38;5;124mid: $id})\u001b[39m\n\u001b[0;32m      5\u001b[0m \u001b[38;5;124m            ON CREATE SET\u001b[39m\n\u001b[0;32m      6\u001b[0m \u001b[38;5;124m                t.genre = $genre,\u001b[39m\n\u001b[0;32m      7\u001b[0m \u001b[38;5;124m                t.artist_ids = $artist_ids,\u001b[39m\n\u001b[0;32m      8\u001b[0m \u001b[38;5;124m                t.album_id = $album_id,\u001b[39m\n\u001b[0;32m      9\u001b[0m \u001b[38;5;124m                t.duration_ms = $duration_ms,\u001b[39m\n\u001b[0;32m     10\u001b[0m \u001b[38;5;124m                t.explicit = $explicit,\u001b[39m\n\u001b[0;32m     11\u001b[0m \u001b[38;5;124m                t.popularity = $popularity,\u001b[39m\n\u001b[0;32m     12\u001b[0m \u001b[38;5;124m                t.danceability = $danceability,\u001b[39m\n\u001b[0;32m     13\u001b[0m \u001b[38;5;124m                t.energy = $energy,\u001b[39m\n\u001b[0;32m     14\u001b[0m \u001b[38;5;124m                t.key = $key,\u001b[39m\n\u001b[0;32m     15\u001b[0m \u001b[38;5;124m                t.loudness = $loudness,\u001b[39m\n\u001b[0;32m     16\u001b[0m \u001b[38;5;124m                t.mode = $mode,\u001b[39m\n\u001b[0;32m     17\u001b[0m \u001b[38;5;124m                t.speechiness = $speechiness,\u001b[39m\n\u001b[0;32m     18\u001b[0m \u001b[38;5;124m                t.acousticness = $acousticness,\u001b[39m\n\u001b[0;32m     19\u001b[0m \u001b[38;5;124m                t.liveness = $liveness,\u001b[39m\n\u001b[0;32m     20\u001b[0m \u001b[38;5;124m                t.valence = $valence,\u001b[39m\n\u001b[0;32m     21\u001b[0m \u001b[38;5;124m                t.tempo = $tempo\u001b[39m\n\u001b[0;32m     22\u001b[0m \u001b[38;5;124m            ON MATCH SET\u001b[39m\n\u001b[0;32m     23\u001b[0m \u001b[38;5;124m                t.genre = $genre,\u001b[39m\n\u001b[0;32m     24\u001b[0m \u001b[38;5;124m                t.artist_ids = $artist_ids,\u001b[39m\n\u001b[0;32m     25\u001b[0m \u001b[38;5;124m                t.album_id = $album_id,\u001b[39m\n\u001b[0;32m     26\u001b[0m \u001b[38;5;124m                t.duration_ms = $duration_ms,\u001b[39m\n\u001b[0;32m     27\u001b[0m \u001b[38;5;124m                t.explicit = $explicit,\u001b[39m\n\u001b[0;32m     28\u001b[0m \u001b[38;5;124m                t.popularity = $popularity,\u001b[39m\n\u001b[0;32m     29\u001b[0m \u001b[38;5;124m                t.danceability = $danceability,\u001b[39m\n\u001b[0;32m     30\u001b[0m \u001b[38;5;124m                t.energy = $energy,\u001b[39m\n\u001b[0;32m     31\u001b[0m \u001b[38;5;124m                t.key = $key,\u001b[39m\n\u001b[0;32m     32\u001b[0m \u001b[38;5;124m                t.loudness = $loudness,\u001b[39m\n\u001b[0;32m     33\u001b[0m \u001b[38;5;124m                t.mode = $mode,\u001b[39m\n\u001b[0;32m     34\u001b[0m \u001b[38;5;124m                t.speechiness = $speechiness,\u001b[39m\n\u001b[0;32m     35\u001b[0m \u001b[38;5;124m                t.acousticness = $acousticness,\u001b[39m\n\u001b[0;32m     36\u001b[0m \u001b[38;5;124m                t.liveness = $liveness,\u001b[39m\n\u001b[0;32m     37\u001b[0m \u001b[38;5;124m                t.valence = $valence,\u001b[39m\n\u001b[0;32m     38\u001b[0m \u001b[38;5;124m                t.tempo = $tempo\u001b[39m\n\u001b[0;32m     39\u001b[0m \u001b[38;5;124m        \u001b[39m\u001b[38;5;124m\"\"\"\u001b[39m, \u001b[38;5;28mid\u001b[39m\u001b[38;5;241m=\u001b[39mtrack[\u001b[38;5;124m'\u001b[39m\u001b[38;5;124mid\u001b[39m\u001b[38;5;124m'\u001b[39m],\n\u001b[1;32m---> 40\u001b[0m             genre\u001b[38;5;241m=\u001b[39m\u001b[43mtrack\u001b[49m\u001b[43m[\u001b[49m\u001b[38;5;124;43m'\u001b[39;49m\u001b[38;5;124;43mgenre\u001b[39;49m\u001b[38;5;124;43m'\u001b[39;49m\u001b[43m]\u001b[49m,\n\u001b[0;32m     41\u001b[0m             artist_ids\u001b[38;5;241m=\u001b[39mtrack[\u001b[38;5;124m'\u001b[39m\u001b[38;5;124martist_ids\u001b[39m\u001b[38;5;124m'\u001b[39m],\n\u001b[0;32m     42\u001b[0m             album_id\u001b[38;5;241m=\u001b[39mtrack[\u001b[38;5;124m'\u001b[39m\u001b[38;5;124malbum_id\u001b[39m\u001b[38;5;124m'\u001b[39m],\n\u001b[0;32m     43\u001b[0m             duration_ms\u001b[38;5;241m=\u001b[39mtrack[\u001b[38;5;124m'\u001b[39m\u001b[38;5;124mduration_ms\u001b[39m\u001b[38;5;124m'\u001b[39m],\n\u001b[0;32m     44\u001b[0m             explicit\u001b[38;5;241m=\u001b[39mtrack[\u001b[38;5;124m'\u001b[39m\u001b[38;5;124mexplicit\u001b[39m\u001b[38;5;124m'\u001b[39m],\n\u001b[0;32m     45\u001b[0m             popularity\u001b[38;5;241m=\u001b[39mtrack[\u001b[38;5;124m'\u001b[39m\u001b[38;5;124mpopularity\u001b[39m\u001b[38;5;124m'\u001b[39m],\n\u001b[0;32m     46\u001b[0m             danceability\u001b[38;5;241m=\u001b[39mtrack[\u001b[38;5;124m'\u001b[39m\u001b[38;5;124maudio_features\u001b[39m\u001b[38;5;124m'\u001b[39m][\u001b[38;5;124m'\u001b[39m\u001b[38;5;124mdanceability\u001b[39m\u001b[38;5;124m'\u001b[39m],\n\u001b[0;32m     47\u001b[0m             energy\u001b[38;5;241m=\u001b[39mtrack[\u001b[38;5;124m'\u001b[39m\u001b[38;5;124maudio_features\u001b[39m\u001b[38;5;124m'\u001b[39m][\u001b[38;5;124m'\u001b[39m\u001b[38;5;124menergy\u001b[39m\u001b[38;5;124m'\u001b[39m],\n\u001b[0;32m     48\u001b[0m             key\u001b[38;5;241m=\u001b[39mtrack[\u001b[38;5;124m'\u001b[39m\u001b[38;5;124maudio_features\u001b[39m\u001b[38;5;124m'\u001b[39m][\u001b[38;5;124m'\u001b[39m\u001b[38;5;124mkey\u001b[39m\u001b[38;5;124m'\u001b[39m],\n\u001b[0;32m     49\u001b[0m             loudness\u001b[38;5;241m=\u001b[39mtrack[\u001b[38;5;124m'\u001b[39m\u001b[38;5;124maudio_features\u001b[39m\u001b[38;5;124m'\u001b[39m][\u001b[38;5;124m'\u001b[39m\u001b[38;5;124mloudness\u001b[39m\u001b[38;5;124m'\u001b[39m],\n\u001b[0;32m     50\u001b[0m             mode\u001b[38;5;241m=\u001b[39mtrack[\u001b[38;5;124m'\u001b[39m\u001b[38;5;124maudio_features\u001b[39m\u001b[38;5;124m'\u001b[39m][\u001b[38;5;124m'\u001b[39m\u001b[38;5;124mmode\u001b[39m\u001b[38;5;124m'\u001b[39m],\n\u001b[0;32m     51\u001b[0m             speechiness\u001b[38;5;241m=\u001b[39mtrack[\u001b[38;5;124m'\u001b[39m\u001b[38;5;124maudio_features\u001b[39m\u001b[38;5;124m'\u001b[39m][\u001b[38;5;124m'\u001b[39m\u001b[38;5;124mspeechiness\u001b[39m\u001b[38;5;124m'\u001b[39m],\n\u001b[0;32m     52\u001b[0m             acousticness\u001b[38;5;241m=\u001b[39mtrack[\u001b[38;5;124m'\u001b[39m\u001b[38;5;124maudio_features\u001b[39m\u001b[38;5;124m'\u001b[39m][\u001b[38;5;124m'\u001b[39m\u001b[38;5;124macousticness\u001b[39m\u001b[38;5;124m'\u001b[39m],\n\u001b[0;32m     53\u001b[0m             liveness\u001b[38;5;241m=\u001b[39mtrack[\u001b[38;5;124m'\u001b[39m\u001b[38;5;124maudio_features\u001b[39m\u001b[38;5;124m'\u001b[39m][\u001b[38;5;124m'\u001b[39m\u001b[38;5;124mliveness\u001b[39m\u001b[38;5;124m'\u001b[39m],\n\u001b[0;32m     54\u001b[0m             valence\u001b[38;5;241m=\u001b[39mtrack[\u001b[38;5;124m'\u001b[39m\u001b[38;5;124maudio_features\u001b[39m\u001b[38;5;124m'\u001b[39m][\u001b[38;5;124m'\u001b[39m\u001b[38;5;124mvalence\u001b[39m\u001b[38;5;124m'\u001b[39m],\n\u001b[0;32m     55\u001b[0m             tempo\u001b[38;5;241m=\u001b[39mtrack[\u001b[38;5;124m'\u001b[39m\u001b[38;5;124maudio_features\u001b[39m\u001b[38;5;124m'\u001b[39m][\u001b[38;5;124m'\u001b[39m\u001b[38;5;124mtempo\u001b[39m\u001b[38;5;124m'\u001b[39m]\n\u001b[0;32m     56\u001b[0m         )\n",
      "\u001b[1;31mKeyError\u001b[0m: 'genre'"
     ]
    }
   ],
   "source": [
    "def upsert_track_nodes(tracks):\n",
    "    for track in tracks:\n",
    "        graph.run(\"\"\"\n",
    "            MERGE (t:Track {id: $id})\n",
    "            ON CREATE SET\n",
    "                t.genre = $genre,\n",
    "                t.artist_ids = $artist_ids,\n",
    "                t.album_id = $album_id,\n",
    "                t.duration_ms = $duration_ms,\n",
    "                t.explicit = $explicit,\n",
    "                t.popularity = $popularity,\n",
    "                t.danceability = $danceability,\n",
    "                t.energy = $energy,\n",
    "                t.key = $key,\n",
    "                t.loudness = $loudness,\n",
    "                t.mode = $mode,\n",
    "                t.speechiness = $speechiness,\n",
    "                t.acousticness = $acousticness,\n",
    "                t.liveness = $liveness,\n",
    "                t.valence = $valence,\n",
    "                t.tempo = $tempo\n",
    "            ON MATCH SET\n",
    "                t.genre = $genre,\n",
    "                t.artist_ids = $artist_ids,\n",
    "                t.album_id = $album_id,\n",
    "                t.duration_ms = $duration_ms,\n",
    "                t.explicit = $explicit,\n",
    "                t.popularity = $popularity,\n",
    "                t.danceability = $danceability,\n",
    "                t.energy = $energy,\n",
    "                t.key = $key,\n",
    "                t.loudness = $loudness,\n",
    "                t.mode = $mode,\n",
    "                t.speechiness = $speechiness,\n",
    "                t.acousticness = $acousticness,\n",
    "                t.liveness = $liveness,\n",
    "                t.valence = $valence,\n",
    "                t.tempo = $tempo\n",
    "        \"\"\", id=track['id'],\n",
    "            genre=track['genre'],\n",
    "            artist_ids=track['artist_ids'],\n",
    "            album_id=track['album_id'],\n",
    "            duration_ms=track['duration_ms'],\n",
    "            explicit=track['explicit'],\n",
    "            popularity=track['popularity'],\n",
    "            danceability=track['audio_features']['danceability'],\n",
    "            energy=track['audio_features']['energy'],\n",
    "            key=track['audio_features']['key'],\n",
    "            loudness=track['audio_features']['loudness'],\n",
    "            mode=track['audio_features']['mode'],\n",
    "            speechiness=track['audio_features']['speechiness'],\n",
    "            acousticness=track['audio_features']['acousticness'],\n",
    "            liveness=track['audio_features']['liveness'],\n",
    "            valence=track['audio_features']['valence'],\n",
    "            tempo=track['audio_features']['tempo']\n",
    "        )\n",
    "\n",
    "upsert_track_nodes(tracks)"
   ]
  },
  {
   "cell_type": "markdown",
   "id": "45ed7e04-0f8e-4e6a-919d-09f47aada4f6",
   "metadata": {
    "tags": []
   },
   "source": [
    "## Connect to MongoDB, get playlists"
   ]
  },
  {
   "cell_type": "code",
   "execution_count": 6,
   "id": "600bf7dd-49c9-42aa-99bb-7fdf7656a51c",
   "metadata": {
    "tags": []
   },
   "outputs": [],
   "source": [
    "playlists_collection = db[\"Neo4J Staging Playlists\"]\n",
    "playlists = playlists_collection.find()"
   ]
  },
  {
   "cell_type": "markdown",
   "id": "49452c9c-757a-4f76-b1d3-407f4a78d255",
   "metadata": {},
   "source": [
    "## Create node for each playlist"
   ]
  },
  {
   "cell_type": "code",
   "execution_count": 8,
   "id": "50c63bb3-99c9-4aa2-9edb-0d37319211b2",
   "metadata": {
    "tags": []
   },
   "outputs": [],
   "source": [
    "def upsert_playlist_nodes(playlists):\n",
    "    for playlist in playlists:\n",
    "        graph.run(\"\"\"\n",
    "            MERGE (p:Playlist {playlist_id: $playlist_id})\n",
    "            ON CREATE SET p.tracklist = $tracklist\n",
    "            ON MATCH SET p.tracklist = $tracklist\n",
    "            RETURN p\n",
    "        \"\"\", tracklist = playlist[\"tracklist\"],\n",
    "            playlist_id = str(playlist['_id'])\n",
    "        )       \n",
    "\n",
    "upsert_playlist_nodes(playlists)"
   ]
  },
  {
   "cell_type": "markdown",
   "id": "78181623-9e42-4f11-9f26-9935ab658da6",
   "metadata": {},
   "source": [
    "# Relationships"
   ]
  },
  {
   "cell_type": "code",
   "execution_count": 2,
   "id": "fa550e11-cd5f-4e67-a9b0-7d3a14928837",
   "metadata": {
    "tags": []
   },
   "outputs": [
    {
     "data": {
      "text/html": [
       "(No data)"
      ],
      "text/plain": [
       "(No data)"
      ]
     },
     "execution_count": 2,
     "metadata": {},
     "output_type": "execute_result"
    }
   ],
   "source": [
    "artist_query = \"\"\"\n",
    "MATCH (t1:Track), (t2:Track)\n",
    "WHERE t1.id <> t2.id AND ANY(artist_id IN t1.artist_ids WHERE artist_id IN t2.artist_ids)\n",
    "MERGE (t1)-[:SHARED_ARTIST]->(t2)\n",
    "\"\"\"\n",
    "\n",
    "album_query = \"\"\"\n",
    "MATCH (t1:Track), (t2:Track)\n",
    "WHERE t1.id <> t2.id AND t1.album_id = t2.album_id\n",
    "MERGE (t1)-[:SHARED_ALBUM]->(t2)\n",
    "\"\"\"\n",
    "\n",
    "genre_query = \"\"\"\n",
    "CALL apoc.periodic.iterate(\n",
    "  \"MATCH (t1:Track) RETURN t1\",\n",
    "  \"MATCH (t2:Track) WHERE t1.id <> t2.id AND ANY(genre IN t1.genre WHERE genre IN t2.genre)\n",
    "   MERGE (t1)-[:SHARED_GENRE]->(t2)\",\n",
    "  {batchSize: 5000, parallel: false}\n",
    ")\n",
    "\"\"\"\n",
    "\n",
    "contains_query = \"\"\"\n",
    "MATCH (p:Playlist), (t:Track)\n",
    "WHERE t.id IN p.tracklist\n",
    "MERGE (p)-[:CONTAINS]->(t)\n",
    "\"\"\""
   ]
  },
  {
   "cell_type": "code",
   "execution_count": null,
   "id": "497951cf",
   "metadata": {},
   "outputs": [],
   "source": [
    "graph.run(artist_query)"
   ]
  },
  {
   "cell_type": "code",
   "execution_count": null,
   "id": "aeb13868",
   "metadata": {},
   "outputs": [],
   "source": [
    "graph.run(album_query)"
   ]
  },
  {
   "cell_type": "code",
   "execution_count": null,
   "id": "eb14cdb3",
   "metadata": {},
   "outputs": [],
   "source": [
    "graph.run(genre_query)"
   ]
  },
  {
   "cell_type": "code",
   "execution_count": null,
   "id": "8be36d6e",
   "metadata": {},
   "outputs": [],
   "source": [
    "graph.run(contains_query)"
   ]
  },
  {
   "cell_type": "markdown",
   "id": "d42c396a",
   "metadata": {},
   "source": [
    "## Cosine Similarity"
   ]
  },
  {
   "cell_type": "code",
   "execution_count": null,
   "id": "6896a5eb",
   "metadata": {},
   "outputs": [],
   "source": [
    "import numpy as np\n",
    "from sklearn.preprocessing import StandardScaler\n",
    "from sklearn.metrics.pairwise import cosine_similarity\n",
    "\n",
    "query = \"\"\"\n",
    "MATCH (t:Track)\n",
    "RETURN t\n",
    "\"\"\"\n",
    "\n",
    "results = graph.run(query)\n",
    "audio_attributes = ['acousticness', \"danceability\", \"energy\", \"liveness\", \"loudness\", \"speechiness\", \"tempo\", \"valence\"]\n",
    "\n",
    "def get_audio_attributes(track_node):\n",
    "    attributes = []\n",
    "    for attribute_name in audio_attributes:\n",
    "        attribute_value = track_node.get(attribute_name)\n",
    "        attributes.append(attribute_value)\n",
    "    return attributes\n",
    "  \n",
    "tracks = [record.get('t') for record in results]\n",
    "\n",
    "# Normalize the audio attributes\n",
    "scaler = StandardScaler()\n",
    "X = np.array([get_audio_attributes(track) for track in tracks])\n",
    "tracks_normalized = scaler.fit_transform(X)\n",
    "\n",
    "for i in range(len(tracks)):\n",
    "    for j in range(i+1, len(tracks)):\n",
    "        if tracks[i] != tracks[j]: # and similarities[i][1] != tracks[i]\n",
    "            cos_sim = cosine_similarity(np.array([tracks_normalized[i]]), np.array([tracks_normalized[j]]))[0][0]\n",
    "            if(cos_sim > 0.975):\n",
    "                graph.run(\n",
    "                    \"\"\"\n",
    "                    MATCH (t1:Track {id: $track_id_1}), (t2:Track {id: $track_id_2})\n",
    "                    WHERE NOT (t1)-[:COSINE_SIMILARITY]-(t2)\n",
    "                    CREATE (t1)-[sim:COSINE_SIMILARITY {value: $cosine_similarity}]->(t2)\n",
    "                    \"\"\",\n",
    "                    track_id_1=tracks[i].get('id'),\n",
    "                    track_id_2=tracks[j].get('id'),\n",
    "                    cosine_similarity=float(cos_sim.item())\n",
    "                )"
   ]
  }
 ],
 "metadata": {
  "kernelspec": {
   "display_name": "Python 3 (ipykernel)",
   "language": "python",
   "name": "python3"
  },
  "language_info": {
   "codemirror_mode": {
    "name": "ipython",
    "version": 3
   },
   "file_extension": ".py",
   "mimetype": "text/x-python",
   "name": "python",
   "nbconvert_exporter": "python",
   "pygments_lexer": "ipython3",
   "version": "3.9.7"
  }
 },
 "nbformat": 4,
 "nbformat_minor": 5
}
